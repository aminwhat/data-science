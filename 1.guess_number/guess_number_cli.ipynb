{
 "cells": [
  {
   "cell_type": "code",
   "execution_count": 1,
   "id": "74adc390",
   "metadata": {},
   "outputs": [],
   "source": [
    "import random\n",
    "\n",
    "\n",
    "turnsToPlay = 5\n",
    "randomNumber = random.randrange(1, 101)\n",
    "\n",
    "\n",
    "def chooseRandomNumber():\n",
    "    print(\n",
    "        \"Welcome to the game. You have \"\n",
    "        + str(turnsToPlay)\n",
    "        + \" turns guess the Number.Start!!\"\n",
    "    )\n",
    "\n",
    "\n",
    "def isUserGuessValid(user_guess: str) -> bool:\n",
    "    valid_User_Guess: int\n",
    "    try:\n",
    "        valid_User_Guess = int(user_guess)\n",
    "    except:\n",
    "        print(\"Input is not valid\\n Input Should Be A Number\")\n",
    "        return False\n",
    "\n",
    "    if valid_User_Guess > 0 and valid_User_Guess < 101:\n",
    "        return True\n",
    "    else:\n",
    "        print(\"Input is not valid\\n Input Should be between the range of 1 to 100\")\n",
    "        return False\n",
    "\n"
   ]
  },
  {
   "cell_type": "code",
   "execution_count": 2,
   "id": "07c4d6af",
   "metadata": {},
   "outputs": [
    {
     "name": "stdout",
     "output_type": "stream",
     "text": [
      "Welcome to the game. You have 5 turns guess the Number.Start!!\n",
      "Input is not valid\n",
      " Input Should Be A Number\n",
      "Input is not valid\n",
      " Input Should Be A Number\n",
      "Input is not valid\n",
      " Input Should be between the range of 1 to 100\n",
      "Input is not valid\n",
      " Input Should be between the range of 1 to 100\n",
      "Input is not valid\n",
      " Input Should be between the range of 1 to 100\n",
      "Wrong... --- You have 4 turn to guess --- The Random Number is Greater than you guess :|\n",
      "Wrong... --- You have 3 turn to guess --- The Random Number is Greater than you guess :|\n",
      "Wrong... --- You have 2 turn to guess --- The Random Number is Less than you guess :|\n",
      "Wrong... --- You have 1 turn to guess --- The Random Number is Less than you guess :|\n",
      "Wrong... --- You have 0 turn to guess --- The Random Number is Greater than you guess :|\n",
      "you lost --- ran out of turns --- :(\n",
      "The Random Number Was: 49\n"
     ]
    }
   ],
   "source": [
    "\n",
    "chooseRandomNumber()\n",
    "while turnsToPlay > 0:\n",
    "    user_guess: str = input(\"Your Guess: \")\n",
    "    if isUserGuessValid(user_guess):\n",
    "        valid_User_Guess = int(user_guess)\n",
    "        if valid_User_Guess == randomNumber:\n",
    "            print(\"Correct!! --- you WIINNNN!! --- :)\")\n",
    "            break\n",
    "        else:\n",
    "            turnsToPlay = turnsToPlay - 1\n",
    "            advice: str = \"The Random Number is Greater than you guess :|\"\n",
    "\n",
    "            if valid_User_Guess > randomNumber:\n",
    "                advice = \"The Random Number is Less than you guess :|\"\n",
    "\n",
    "            print(\n",
    "                \"Wrong... --- You have \"\n",
    "                + str(turnsToPlay)\n",
    "                + \" turn to guess --- \"\n",
    "                + advice\n",
    "            )\n",
    "else:\n",
    "    print(\"you lost --- ran out of turns --- :(\")\n",
    "\n",
    "print(\"The Random Number Was: \" + str(randomNumber))\n"
   ]
  }
 ],
 "metadata": {
  "kernelspec": {
   "display_name": "Python 3 (ipykernel)",
   "language": "python",
   "name": "python3"
  },
  "language_info": {
   "codemirror_mode": {
    "name": "ipython",
    "version": 3
   },
   "file_extension": ".py",
   "mimetype": "text/x-python",
   "name": "python",
   "nbconvert_exporter": "python",
   "pygments_lexer": "ipython3",
   "version": "3.9.13"
  }
 },
 "nbformat": 4,
 "nbformat_minor": 5
}
