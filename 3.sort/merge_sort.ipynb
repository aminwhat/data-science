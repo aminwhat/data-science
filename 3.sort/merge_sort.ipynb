{
 "cells": [
  {
   "cell_type": "code",
   "execution_count": 1,
   "metadata": {},
   "outputs": [],
   "source": [
    "import numpy as np\n",
    "\n",
    "\n",
    "def merge(arr, l, m, r):\n",
    "  n1 = m - l + 1\n",
    "  n2 = r - m\n",
    "  L = np.zeros(n1)\n",
    "  R = np.zeros(n2)\n",
    "\n",
    "  # Copy data to temporary arrays L[] and R[]\n",
    "  for i in range(0, n1):\n",
    "    L[i] = arr[l + i]\n",
    "  for j in range(0, n2):\n",
    "    R[j] = arr[m + 1 + j]\n",
    "\n",
    "  # Merge the temporary arrays back into arr[l..r]\n",
    "  i = 0  # Initial index of first sub-array\n",
    "  j = 0  # Initial index of second sub-array\n",
    "  k = l  # Initial index of merged sub-array\n",
    "\n",
    "  while i < n1 and j < n2:\n",
    "    if L[i] <= R[j]:\n",
    "      arr[k] = L[i]\n",
    "      i += 1\n",
    "    else:\n",
    "      arr[k] = R[j]\n",
    "      j += 1\n",
    "    k += 1\n",
    "\n",
    "  # Copy the remaining elements of L[], if there are any\n",
    "  while i < n1:\n",
    "    arr[k] = L[i]\n",
    "    i += 1\n",
    "    k += 1\n",
    "\n",
    "  # Copy the remaining elements of R[], if there are any\n",
    "  while j < n2:\n",
    "    arr[k] = R[j]\n",
    "    j += 1\n",
    "    k += 1\n"
   ]
  },
  {
   "cell_type": "code",
   "execution_count": 2,
   "metadata": {},
   "outputs": [],
   "source": [
    "def merge_sort(arr, l, r):\n",
    "  if l < r:\n",
    "    # Find the middle point\n",
    "    m = (l + r) // 2\n",
    "\n",
    "    # Sort first and second halves\n",
    "    merge_sort(arr, l, m)\n",
    "    merge_sort(arr, m + 1, r)\n",
    "\n",
    "    # Merge the sorted halves\n",
    "    merge(arr, l, m, r)\n"
   ]
  },
  {
   "cell_type": "code",
   "execution_count": 4,
   "metadata": {},
   "outputs": [
    {
     "data": {
      "text/plain": [
       "array([1, 2, 3, 4, 5, 6, 7, 8])"
      ]
     },
     "execution_count": 4,
     "metadata": {},
     "output_type": "execute_result"
    }
   ],
   "source": [
    "arr = np.array([6, 5, 3, 1, 8, 7, 2, 4])\n",
    "merge_sort(arr, 0, len(arr) - 1)\n",
    "arr  # Output: [1 2 3 4 5 6 7 8]"
   ]
  },
  {
   "cell_type": "code",
   "execution_count": 5,
   "metadata": {},
   "outputs": [
    {
     "data": {
      "text/plain": [
       "array([1, 2, 3, 4, 5, 6, 7, 8])"
      ]
     },
     "execution_count": 5,
     "metadata": {},
     "output_type": "execute_result"
    }
   ],
   "source": [
    "arr = np.array([6, 5, 3, 1, 8, 7, 2, 4])\n",
    "np.sort(arr,kind='mergesort') # Output: [1 2 3 4 5 6 7 8]"
   ]
  }
 ],
 "metadata": {
  "kernelspec": {
   "display_name": "base",
   "language": "python",
   "name": "python3"
  },
  "language_info": {
   "codemirror_mode": {
    "name": "ipython",
    "version": 3
   },
   "file_extension": ".py",
   "mimetype": "text/x-python",
   "name": "python",
   "nbconvert_exporter": "python",
   "pygments_lexer": "ipython3",
   "version": "3.9.13"
  }
 },
 "nbformat": 4,
 "nbformat_minor": 2
}
