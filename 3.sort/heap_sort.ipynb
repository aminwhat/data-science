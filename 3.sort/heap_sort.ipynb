{
 "cells": [
  {
   "cell_type": "code",
   "execution_count": 2,
   "metadata": {},
   "outputs": [],
   "source": [
    "import numpy as np\n",
    "\n",
    "def heapify(arr, n, i):\n",
    "  largest = i  # Initialize largest as root\n",
    "  l = 2 * i + 1  # left = 2*i + 1\n",
    "  r = 2 * i + 2  # right = 2*i + 2\n",
    "\n",
    "  # See if left child of root exists and is greater than root\n",
    "  if l < n and arr[i] < arr[l]:\n",
    "    largest = l\n",
    "\n",
    "  # See if right child of root exists and is greater than root\n",
    "  if r < n and arr[largest] < arr[r]:\n",
    "    largest = r\n",
    "\n",
    "  # Change root, if needed\n",
    "  if largest != i:\n",
    "    arr[i], arr[largest] = arr[largest], arr[i]  # swap\n",
    "\n",
    "    # Heapify the root\n",
    "    heapify(arr, n, largest)\n"
   ]
  },
  {
   "cell_type": "code",
   "execution_count": 3,
   "metadata": {},
   "outputs": [],
   "source": [
    "def heap_sort(arr):\n",
    "  n = len(arr)\n",
    "\n",
    "  # Build a maxheap\n",
    "  for i in range(n, -1, -1):\n",
    "    heapify(arr, n, i)\n",
    "\n",
    "  # One by one extract elements\n",
    "  for i in range(n - 1, 0, -1):\n",
    "    arr[i], arr[0] = arr[0], arr[i]  # swap\n",
    "    heapify(arr, i, 0)"
   ]
  },
  {
   "cell_type": "code",
   "execution_count": 8,
   "metadata": {},
   "outputs": [
    {
     "data": {
      "text/plain": [
       "array([ 5,  6,  7, 11, 12, 13])"
      ]
     },
     "execution_count": 8,
     "metadata": {},
     "output_type": "execute_result"
    }
   ],
   "source": [
    "arr = np.array([12, 11, 13, 5, 6, 7])\n",
    "heap_sort(arr)\n",
    "arr  # Output: [5 6 7 11 12 13]"
   ]
  },
  {
   "cell_type": "code",
   "execution_count": 16,
   "metadata": {},
   "outputs": [
    {
     "data": {
      "text/plain": [
       "array([ 5,  6,  7, 11, 12, 13])"
      ]
     },
     "execution_count": 16,
     "metadata": {},
     "output_type": "execute_result"
    }
   ],
   "source": [
    "arr = np.array([12, 11, 13, 5, 6, 7])\n",
    "np.sort(arr,kind='heapsort')  # Output: [5 6 7 11 12 13]"
   ]
  }
 ],
 "metadata": {
  "kernelspec": {
   "display_name": "base",
   "language": "python",
   "name": "python3"
  },
  "language_info": {
   "codemirror_mode": {
    "name": "ipython",
    "version": 3
   },
   "file_extension": ".py",
   "mimetype": "text/x-python",
   "name": "python",
   "nbconvert_exporter": "python",
   "pygments_lexer": "ipython3",
   "version": "3.9.13"
  }
 },
 "nbformat": 4,
 "nbformat_minor": 2
}
